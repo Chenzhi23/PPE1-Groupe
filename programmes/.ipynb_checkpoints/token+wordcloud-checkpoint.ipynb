{
 "cells": [
  {
   "cell_type": "code",
   "execution_count": 1,
   "id": "4a4fdfd4-9d09-4eb2-97cc-4de22bfa2491",
   "metadata": {},
   "outputs": [
    {
     "name": "stdout",
     "output_type": "stream",
     "text": [
      "Collecting thulac\n",
      "  Using cached thulac-0.2.2-py3-none-any.whl (53.1 MB)\n",
      "Installing collected packages: thulac\n",
      "Successfully installed thulac-0.2.2\n",
      "Note: you may need to restart the kernel to use updated packages.\n"
     ]
    }
   ],
   "source": [
    "pip install thulac"
   ]
  },
  {
   "cell_type": "code",
   "execution_count": 4,
   "id": "e0aa6637-aca6-42dc-87af-77a2b7b312a6",
   "metadata": {},
   "outputs": [
    {
     "name": "stdout",
     "output_type": "stream",
     "text": [
      "Model loaded succeed\n",
      "successfully cut file fich15-ch.txt!\n"
     ]
    }
   ],
   "source": [
    "import thulac\n",
    "thu1 = thulac.thulac(seg_only=True)  #只进行分词，不进行词性标注\n",
    "thu1.cut_f(\"fich15-ch.txt\", \"output.txt\")  #对input.txt文件内容进行分词，输出到output.txt"
   ]
  },
  {
   "cell_type": "code",
   "execution_count": 9,
   "id": "4063584a-53d6-4cf7-8b4f-bba6990f7586",
   "metadata": {},
   "outputs": [
    {
     "data": {
      "text/plain": [
       "<wordcloud.wordcloud.WordCloud at 0x7f8de3a6fcd0>"
      ]
     },
     "execution_count": 9,
     "metadata": {},
     "output_type": "execute_result"
    }
   ],
   "source": [
    "from wordcloud import WordCloud\n",
    "\n",
    "# File and font paths\n",
    "file_path = 'output.txt'\n",
    "font_path = 'NotoSansSC-Light.ttf'\n",
    "\n",
    "# Using with statement for safe file handling\n",
    "with open(file_path, 'r') as file:\n",
    "    text = file.read()\n",
    "\n",
    "# Creating a WordCloud object\n",
    "cloud = WordCloud(font_path=font_path,\n",
    "                  width=800,\n",
    "                  height=800,\n",
    "                  stopwords={\"的\",\"许玮枫\",\"他\",\"她\"}).generate(text)  # Use a set for stopwords\n",
    "\n",
    "# Saving the word cloud to a file\n",
    "cloud.to_file('words.jpg')\n"
   ]
  },
  {
   "cell_type": "code",
   "execution_count": null,
   "id": "b0b23e2e-095e-4ccf-8d40-ae5b6bc7b378",
   "metadata": {},
   "outputs": [],
   "source": []
  }
 ],
 "metadata": {
  "kernelspec": {
   "display_name": "Python 3 (ipykernel)",
   "language": "python",
   "name": "python3"
  },
  "language_info": {
   "codemirror_mode": {
    "name": "ipython",
    "version": 3
   },
   "file_extension": ".py",
   "mimetype": "text/x-python",
   "name": "python",
   "nbconvert_exporter": "python",
   "pygments_lexer": "ipython3",
   "version": "3.10.12"
  }
 },
 "nbformat": 4,
 "nbformat_minor": 5
}
