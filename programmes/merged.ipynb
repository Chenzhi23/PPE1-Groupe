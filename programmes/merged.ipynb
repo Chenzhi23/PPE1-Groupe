{
 "cells": [
  {
   "cell_type": "code",
   "execution_count": 4,
   "metadata": {},
   "outputs": [
    {
     "ename": "FileNotFoundError",
     "evalue": "[Errno 2] No such file or directory: 'path_to_your_directory'",
     "output_type": "error",
     "traceback": [
      "\u001b[0;31m---------------------------------------------------------------------------\u001b[0m",
      "\u001b[0;31mFileNotFoundError\u001b[0m                         Traceback (most recent call last)",
      "\u001b[1;32m/Users/chenzhisun/PPE1-Groupe/dumps-text/fr/merged.ipynb Cell 2\u001b[0m line \u001b[0;36m3\n\u001b[1;32m     <a href='vscode-notebook-cell:/Users/chenzhisun/PPE1-Groupe/dumps-text/fr/merged.ipynb#W2sZmlsZQ%3D%3D?line=26'>27</a>\u001b[0m                     \u001b[39mprint\u001b[39m(\u001b[39mf\u001b[39m\u001b[39m\"\u001b[39m\u001b[39mError converting \u001b[39m\u001b[39m{\u001b[39;00mfilename\u001b[39m}\u001b[39;00m\u001b[39m. Skipping.\u001b[39m\u001b[39m\"\u001b[39m)\n\u001b[1;32m     <a href='vscode-notebook-cell:/Users/chenzhisun/PPE1-Groupe/dumps-text/fr/merged.ipynb#W2sZmlsZQ%3D%3D?line=28'>29</a>\u001b[0m \u001b[39m# 调用函数，指定要处理的目录\u001b[39;00m\n\u001b[0;32m---> <a href='vscode-notebook-cell:/Users/chenzhisun/PPE1-Groupe/dumps-text/fr/merged.ipynb#W2sZmlsZQ%3D%3D?line=29'>30</a>\u001b[0m convert_to_utf8(\u001b[39m'\u001b[39;49m\u001b[39mpath_to_your_directory\u001b[39;49m\u001b[39m'\u001b[39;49m)\n",
      "\u001b[1;32m/Users/chenzhisun/PPE1-Groupe/dumps-text/fr/merged.ipynb Cell 2\u001b[0m line \u001b[0;36m6\n\u001b[1;32m      <a href='vscode-notebook-cell:/Users/chenzhisun/PPE1-Groupe/dumps-text/fr/merged.ipynb#W2sZmlsZQ%3D%3D?line=3'>4</a>\u001b[0m \u001b[39mdef\u001b[39;00m \u001b[39mconvert_to_utf8\u001b[39m(directory):\n\u001b[1;32m      <a href='vscode-notebook-cell:/Users/chenzhisun/PPE1-Groupe/dumps-text/fr/merged.ipynb#W2sZmlsZQ%3D%3D?line=4'>5</a>\u001b[0m     \u001b[39m# 遍历指定目录下的所有文件\u001b[39;00m\n\u001b[0;32m----> <a href='vscode-notebook-cell:/Users/chenzhisun/PPE1-Groupe/dumps-text/fr/merged.ipynb#W2sZmlsZQ%3D%3D?line=5'>6</a>\u001b[0m     \u001b[39mfor\u001b[39;00m filename \u001b[39min\u001b[39;00m os\u001b[39m.\u001b[39;49mlistdir(directory):\n\u001b[1;32m      <a href='vscode-notebook-cell:/Users/chenzhisun/PPE1-Groupe/dumps-text/fr/merged.ipynb#W2sZmlsZQ%3D%3D?line=6'>7</a>\u001b[0m         \u001b[39mif\u001b[39;00m filename\u001b[39m.\u001b[39mendswith(\u001b[39m'\u001b[39m\u001b[39m.txt\u001b[39m\u001b[39m'\u001b[39m):  \u001b[39m# 只处理 .txt 文件\u001b[39;00m\n\u001b[1;32m      <a href='vscode-notebook-cell:/Users/chenzhisun/PPE1-Groupe/dumps-text/fr/merged.ipynb#W2sZmlsZQ%3D%3D?line=7'>8</a>\u001b[0m             filepath \u001b[39m=\u001b[39m os\u001b[39m.\u001b[39mpath\u001b[39m.\u001b[39mjoin(directory, filename)\n",
      "\u001b[0;31mFileNotFoundError\u001b[0m: [Errno 2] No such file or directory: 'path_to_your_directory'"
     ]
    }
   ],
   "source": [
    "import os\n",
    "import chardet\n",
    "\n",
    "def convert_to_utf8(directory):\n",
    "    # 遍历指定目录下的所有文件\n",
    "    for filename in os.listdir(directory):\n",
    "        if filename.endswith('.txt'):  # 只处理 .txt 文件\n",
    "            filepath = os.path.join(directory, filename)\n",
    "            \n",
    "            # 读取文件内容，并检测编码\n",
    "            with open(filepath, 'rb') as file:\n",
    "                raw_data = file.read()\n",
    "                encoding = chardet.detect(raw_data)['encoding']\n",
    "\n",
    "            # 如果文件不是 UTF-8 编码，则转换它\n",
    "            if encoding != 'utf-8':\n",
    "                try:\n",
    "                    # 解码旧编码并重新编码为 UTF-8\n",
    "                    decoded_data = raw_data.decode(encoding)\n",
    "                    utf8_data = decoded_data.encode('utf-8')\n",
    "\n",
    "                    # 将转换后的数据写回文件\n",
    "                    with open(filepath, 'wb') as file:\n",
    "                        file.write(utf8_data)\n",
    "                    print(f\"Converted {filename} to UTF-8.\")\n",
    "                except UnicodeDecodeError:\n",
    "                    print(f\"Error converting {filename}. Skipping.\")\n",
    "\n",
    "# 调用函数，指定要处理的目录\n",
    "convert_to_utf8('fr')\n"
   ]
  },
  {
   "cell_type": "code",
   "execution_count": null,
   "id": "6a0dfb08-5ac1-4518-a086-ceb0ffd9e3fd",
   "metadata": {},
   "outputs": [],
   "source": []
  }
 ],
 "metadata": {
  "kernelspec": {
   "display_name": "Python 3 (ipykernel)",
   "language": "python",
   "name": "python3"
  },
  "language_info": {
   "codemirror_mode": {
    "name": "ipython",
    "version": 3
   },
   "file_extension": ".py",
   "mimetype": "text/x-python",
   "name": "python",
   "nbconvert_exporter": "python",
   "pygments_lexer": "ipython3",
   "version": "3.11.5"
  }
 },
 "nbformat": 4,
 "nbformat_minor": 5
}
