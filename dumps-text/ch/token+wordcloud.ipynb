{
 "cells": [
  {
   "cell_type": "code",
   "execution_count": 2,
   "id": "e0aa6637-aca6-42dc-87af-77a2b7b312a6",
   "metadata": {},
   "outputs": [
    {
     "name": "stdout",
     "output_type": "stream",
     "text": [
      "Model loaded succeed\n",
      "successfully cut file merged_output.txt!\n"
     ]
    }
   ],
   "source": [
    "#import thulac\n",
    "#thu1 = thulac.thulac(seg_only=True, T2S=True, filt=True)  #只进行分词，不进行词性标注\n",
    "#thu1.cut_f(\"merged_output.txt\", \"output.txt\")  #对input.txt文件内容进行分词，输出到output.txt"
   ]
  },
  {
   "cell_type": "code",
   "execution_count": 15,
   "id": "4063584a-53d6-4cf7-8b4f-bba6990f7586",
   "metadata": {},
   "outputs": [
    {
     "data": {
      "text/plain": [
       "<wordcloud.wordcloud.WordCloud at 0x7f2bd3763a60>"
      ]
     },
     "execution_count": 15,
     "metadata": {},
     "output_type": "execute_result"
    }
   ],
   "source": [
    "from wordcloud import WordCloud, ImageColorGenerator\n",
    "import numpy as np\n",
    "from PIL import Image\n",
    "\n",
    "# File and font paths\n",
    "file_path = 'output2.txt'\n",
    "font_path = 'NotoSansSC-Light.ttf'\n",
    "\n",
    "# 使用 PIL 加载一个形状蒙版（例如心形）\n",
    "#mask = np.array(Image.open(\"heart_mask.png\"))\n",
    "\n",
    "# 使用 with statement 安全地打开文件\n",
    "with open(file_path, 'r') as file:\n",
    "    text = file.read()\n",
    "\n",
    "# 创建词云对象\n",
    "cloud = WordCloud(font_path=font_path,\n",
    "                  #background_color=\"white\",\n",
    "                  #mask=mask,  # 使用蒙版\n",
    "                  #contour_color='steelblue',  # 轮廓颜色\n",
    "                  width=800,\n",
    "                  height=800,\n",
    "                  stopwords={\"人\",\"一\",\"更\",\"从\",\"会\",\"的\",\"不\",\"一个\",\"他\",\"她\",\"他们\",\"和\",\"你\",\"我们\",\"着\",\"就\",\"有\",\"我\",\"了\",\"中\",\"被\",\"对\",\"也\",\"在\",\"是\",\"但\",\"为\",\"地\",\"上\",\"与\",\"或\",\"而\",\"只\",\"都\",\"并\",\"来\",\"这\"}).generate(text)\n",
    "\n",
    "# 为词云生成自定义颜色\n",
    "def custom_color(word, font_size, position, orientation, random_state=None, **kwargs):\n",
    "    return f\"hsl({np.random.randint(0,255)}, 100%, {np.random.randint(25, 75)}%)\"\n",
    "\n",
    "cloud.recolor(color_func=custom_color)\n",
    "\n",
    "# 保存词云图到文件\n",
    "cloud.to_file('words2.jpg')\n"
   ]
  },
  {
   "cell_type": "code",
   "execution_count": null,
   "id": "b0b23e2e-095e-4ccf-8d40-ae5b6bc7b378",
   "metadata": {},
   "outputs": [],
   "source": []
  }
 ],
 "metadata": {
  "kernelspec": {
   "display_name": "Python 3 (ipykernel)",
   "language": "python",
   "name": "python3"
  },
  "language_info": {
   "codemirror_mode": {
    "name": "ipython",
    "version": 3
   },
   "file_extension": ".py",
   "mimetype": "text/x-python",
   "name": "python",
   "nbconvert_exporter": "python",
   "pygments_lexer": "ipython3",
   "version": "3.10.12"
  }
 },
 "nbformat": 4,
 "nbformat_minor": 5
}
