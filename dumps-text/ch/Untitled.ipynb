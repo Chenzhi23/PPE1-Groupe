{
 "cells": [
  {
   "cell_type": "code",
   "execution_count": 1,
   "id": "1b2239d0-7d6d-4a80-aacb-ef837581c064",
   "metadata": {},
   "outputs": [
    {
     "name": "stdout",
     "output_type": "stream",
     "text": [
      "Requirement already satisfied: jieba in /home/xinlei/miniconda3/lib/python3.10/site-packages (0.42.1)\n",
      "Note: you may need to restart the kernel to use updated packages.\n"
     ]
    }
   ],
   "source": [
    "pip install jieba"
   ]
  },
  {
   "cell_type": "code",
   "execution_count": 6,
   "id": "b0f61792-2b71-45a6-a59d-cbb900da9f04",
   "metadata": {},
   "outputs": [
    {
     "name": "stdout",
     "output_type": "stream",
     "text": [
      "Collecting paddlepaddle\n",
      "  Downloading paddlepaddle-2.5.2-cp310-cp310-manylinux1_x86_64.whl (126.5 MB)\n",
      "\u001b[2K     \u001b[38;2;114;156;31m━━━━━━━━━━━━━━━━━━━━━━━━━━━━━━━━━━━━━━━\u001b[0m \u001b[32m126.5/126.5 MB\u001b[0m \u001b[31m2.7 MB/s\u001b[0m eta \u001b[36m0:00:00\u001b[0mm eta \u001b[36m0:00:01\u001b[0m[36m0:00:01\u001b[0m\n",
      "\u001b[?25hRequirement already satisfied: httpx in /home/xinlei/miniconda3/lib/python3.10/site-packages (from paddlepaddle) (0.13.3)\n",
      "Requirement already satisfied: numpy>=1.13 in /home/xinlei/miniconda3/lib/python3.10/site-packages (from paddlepaddle) (1.23.5)\n",
      "Requirement already satisfied: Pillow in /home/xinlei/miniconda3/lib/python3.10/site-packages (from paddlepaddle) (10.0.1)\n",
      "Requirement already satisfied: decorator in /home/xinlei/miniconda3/lib/python3.10/site-packages (from paddlepaddle) (5.1.1)\n",
      "Collecting astor (from paddlepaddle)\n",
      "  Downloading astor-0.8.1-py2.py3-none-any.whl (27 kB)\n",
      "Collecting opt-einsum==3.3.0 (from paddlepaddle)\n",
      "  Downloading opt_einsum-3.3.0-py3-none-any.whl (65 kB)\n",
      "\u001b[2K     \u001b[38;2;114;156;31m━━━━━━━━━━━━━━━━━━━━━━━━━━━━━━━━━━━━━━━━\u001b[0m \u001b[32m65.5/65.5 kB\u001b[0m \u001b[31m2.2 MB/s\u001b[0m eta \u001b[36m0:00:00\u001b[0m\n",
      "\u001b[?25hCollecting protobuf>=3.20.2 (from paddlepaddle)\n",
      "  Downloading protobuf-4.25.1-cp37-abi3-manylinux2014_x86_64.whl (294 kB)\n",
      "\u001b[2K     \u001b[38;2;114;156;31m━━━━━━━━━━━━━━━━━━━━━━━━━━━━━━━━━━━━━━━\u001b[0m \u001b[32m294.6/294.6 kB\u001b[0m \u001b[31m2.3 MB/s\u001b[0m eta \u001b[36m0:00:00\u001b[0m[31m2.5 MB/s\u001b[0m eta \u001b[36m0:00:01\u001b[0m\n",
      "\u001b[?25hRequirement already satisfied: certifi in /home/xinlei/miniconda3/lib/python3.10/site-packages (from httpx->paddlepaddle) (2023.5.7)\n",
      "Requirement already satisfied: hstspreload in /home/xinlei/miniconda3/lib/python3.10/site-packages (from httpx->paddlepaddle) (2023.1.1)\n",
      "Requirement already satisfied: sniffio in /home/xinlei/miniconda3/lib/python3.10/site-packages (from httpx->paddlepaddle) (1.3.0)\n",
      "Requirement already satisfied: chardet==3.* in /home/xinlei/miniconda3/lib/python3.10/site-packages (from httpx->paddlepaddle) (3.0.4)\n",
      "Requirement already satisfied: idna==2.* in /home/xinlei/miniconda3/lib/python3.10/site-packages (from httpx->paddlepaddle) (2.10)\n",
      "Requirement already satisfied: rfc3986<2,>=1.3 in /home/xinlei/miniconda3/lib/python3.10/site-packages (from httpx->paddlepaddle) (1.5.0)\n",
      "Requirement already satisfied: httpcore==0.9.* in /home/xinlei/miniconda3/lib/python3.10/site-packages (from httpx->paddlepaddle) (0.9.1)\n",
      "Requirement already satisfied: h11<0.10,>=0.8 in /home/xinlei/miniconda3/lib/python3.10/site-packages (from httpcore==0.9.*->httpx->paddlepaddle) (0.9.0)\n",
      "Requirement already satisfied: h2==3.* in /home/xinlei/miniconda3/lib/python3.10/site-packages (from httpcore==0.9.*->httpx->paddlepaddle) (3.2.0)\n",
      "Requirement already satisfied: hyperframe<6,>=5.2.0 in /home/xinlei/miniconda3/lib/python3.10/site-packages (from h2==3.*->httpcore==0.9.*->httpx->paddlepaddle) (5.2.0)\n",
      "Requirement already satisfied: hpack<4,>=3.0 in /home/xinlei/miniconda3/lib/python3.10/site-packages (from h2==3.*->httpcore==0.9.*->httpx->paddlepaddle) (3.0.0)\n",
      "Installing collected packages: protobuf, opt-einsum, astor, paddlepaddle\n",
      "Successfully installed astor-0.8.1 opt-einsum-3.3.0 paddlepaddle-2.5.2 protobuf-4.25.1\n",
      "Note: you may need to restart the kernel to use updated packages.\n"
     ]
    }
   ],
   "source": [
    "pip install paddlepaddle\n"
   ]
  },
  {
   "cell_type": "code",
   "execution_count": 10,
   "id": "1770bf94-f3aa-4976-9f76-9f99607d4fc7",
   "metadata": {},
   "outputs": [
    {
     "name": "stderr",
     "output_type": "stream",
     "text": [
      "Import error, cannot find paddle.fluid and jieba.lac_small.predict module. Now, back to jieba basic cut......\n",
      "[2023-12-13 14:10:55,938] [   DEBUG] _compat.py:50 - Import error, cannot find paddle.fluid and jieba.lac_small.predict module. Now, back to jieba basic cut......\n"
     ]
    },
    {
     "name": "stdout",
     "output_type": "stream",
     "text": [
      "分词结果已保存到 output2.txt\n"
     ]
    }
   ],
   "source": [
    "# encoding=utf-8\n",
    "import jieba\n",
    "\n",
    "# 启动 paddle 模式\n",
    "jieba.enable_paddle()\n",
    "\n",
    "# 定义要分词的文件路径和输出文件路径\n",
    "input_file_path = 'merged_output.txt'  # 输入文件的路径\n",
    "output_file_path = 'output2.txt'  # 输出文件的路径\n",
    "\n",
    "# 读取文件内容\n",
    "with open(input_file_path, 'r', encoding='utf-8') as file:\n",
    "    content = file.read()\n",
    "\n",
    "# 使用 jieba 进行分词\n",
    "seg_list = jieba.cut(content, use_paddle=True)\n",
    "\n",
    "# 将分词结果保存到输出文件\n",
    "with open(output_file_path, 'w', encoding='utf-8') as file:\n",
    "    file.write(' '.join(seg_list))\n",
    "\n",
    "print(f\"分词结果已保存到 {output_file_path}\")\n"
   ]
  },
  {
   "cell_type": "code",
   "execution_count": null,
   "id": "d9bde5cc-4a4d-4e1b-8ef7-40937cf4f975",
   "metadata": {},
   "outputs": [],
   "source": []
  }
 ],
 "metadata": {
  "kernelspec": {
   "display_name": "Python 3 (ipykernel)",
   "language": "python",
   "name": "python3"
  },
  "language_info": {
   "codemirror_mode": {
    "name": "ipython",
    "version": 3
   },
   "file_extension": ".py",
   "mimetype": "text/x-python",
   "name": "python",
   "nbconvert_exporter": "python",
   "pygments_lexer": "ipython3",
   "version": "3.10.12"
  }
 },
 "nbformat": 4,
 "nbformat_minor": 5
}
