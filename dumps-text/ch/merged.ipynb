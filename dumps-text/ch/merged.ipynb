{
 "cells": [
  {
   "cell_type": "code",
   "execution_count": 1,
   "id": "2c89f850-ba39-4ef6-9bf0-0735d285b82e",
   "metadata": {},
   "outputs": [
    {
     "name": "stdout",
     "output_type": "stream",
     "text": [
      "所有文本文件已合并到 'merged_output.txt' 中。\n"
     ]
    }
   ],
   "source": [
    "import os\n",
    "\n",
    "# 设置要合并的文件的目录\n",
    "directory = '.'  # 当前目录\n",
    "\n",
    "# 创建或打开一个新文件用于写入合并后的内容\n",
    "with open('merged_output.txt', 'w') as output_file:\n",
    "    # 遍历目录中的所有文件\n",
    "    for filename in os.listdir(directory):\n",
    "        # 检查文件是否为文本文件\n",
    "        if filename.endswith('.txt'):\n",
    "            # 打开并读取文本文件的内容\n",
    "            with open(filename, 'r') as input_file:\n",
    "                # 将内容写入输出文件\n",
    "                output_file.write(input_file.read())\n",
    "                # 在每个文件的内容之间添加换行符以分隔\n",
    "                output_file.write('\\n')\n",
    "\n",
    "print(\"所有文本文件已合并到 'merged_output.txt' 中。\")\n"
   ]
  },
  {
   "cell_type": "code",
   "execution_count": null,
   "id": "6a0dfb08-5ac1-4518-a086-ceb0ffd9e3fd",
   "metadata": {},
   "outputs": [],
   "source": []
  }
 ],
 "metadata": {
  "kernelspec": {
   "display_name": "Python 3 (ipykernel)",
   "language": "python",
   "name": "python3"
  },
  "language_info": {
   "codemirror_mode": {
    "name": "ipython",
    "version": 3
   },
   "file_extension": ".py",
   "mimetype": "text/x-python",
   "name": "python",
   "nbconvert_exporter": "python",
   "pygments_lexer": "ipython3",
   "version": "3.10.12"
  }
 },
 "nbformat": 4,
 "nbformat_minor": 5
}
